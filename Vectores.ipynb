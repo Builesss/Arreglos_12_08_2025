{
  "nbformat": 4,
  "nbformat_minor": 0,
  "metadata": {
    "colab": {
      "provenance": [],
      "authorship_tag": "ABX9TyPyfYjoR3oP32stqw1/7hrl",
      "include_colab_link": true
    },
    "kernelspec": {
      "name": "python3",
      "display_name": "Python 3"
    },
    "language_info": {
      "name": "python"
    }
  },
  "cells": [
    {
      "cell_type": "markdown",
      "metadata": {
        "id": "view-in-github",
        "colab_type": "text"
      },
      "source": [
        "<a href=\"https://colab.research.google.com/github/Builesss/Arreglos_12_08_2025/blob/main/Vectores.ipynb\" target=\"_parent\"><img src=\"https://colab.research.google.com/assets/colab-badge.svg\" alt=\"Open In Colab\"/></a>"
      ]
    },
    {
      "cell_type": "code",
      "execution_count": null,
      "metadata": {
        "id": "y1DdtQtwMi0M"
      },
      "outputs": [],
      "source": []
    },
    {
      "cell_type": "markdown",
      "source": [
        "Los vectores son una reserva de memoria para almacenar informacion, solo puede ser de un tipo, si es numerico, es numerico, si es texto, debe continuar siendo texto, esto aplica para las matrices.\n",
        "\n",
        "Los arreglos son identificadores estaticos, esto significa que es otra forma de definir, varibales y constantes."
      ],
      "metadata": {
        "id": "rniIbdNNVAan"
      }
    },
    {
      "cell_type": "code",
      "source": [
        "import numpy as np\n",
        "\n",
        "vector = np.array([1, 2, 3, 4, 5])\n",
        "print(vector)\n",
        "\n",
        "print(vector[2])\n",
        "\n",
        "\"\"\" Los vectores no son como las listas, no tienen un metodo end() para agregar elementos\n",
        "o tienen un metodo pop() para eliminar elemntos. pero si tienen metodo reshape() para cambiar\n",
        "su forma, adicionalmente despues de creado no se puede cambiar el tamaño del vector.\"\"\"\n",
        "\n",
        "vector1 = np.zeros(5)\n",
        "print(vector1)\n",
        "\n",
        "vector2 = np.ones(5)\n",
        "print(vector2)\n",
        "\n",
        "vector3 = np.arange(1, 10)\n",
        "print(\"rango\", vector3)\n",
        "\n",
        "vector4 = np.linspace(1, 10, 5)\n",
        "print(\"linspace\", vector4)\n",
        "\n",
        "vector5 = np.random.rand(10)\n",
        "print(\"random\", vector5)\n",
        "\n",
        "vector6 = np.random.randint(1, 10, 10)\n",
        "print(\"random int\", vector6)"
      ],
      "metadata": {
        "colab": {
          "base_uri": "https://localhost:8080/"
        },
        "collapsed": true,
        "id": "Xv8RlZDVVb0X",
        "outputId": "5105ba08-cf85-4d09-8004-b6de096f00bd"
      },
      "execution_count": 1,
      "outputs": [
        {
          "output_type": "stream",
          "name": "stdout",
          "text": [
            "[1 2 3 4 5]\n",
            "3\n",
            "[0. 0. 0. 0. 0.]\n",
            "[1. 1. 1. 1. 1.]\n",
            "rango [1 2 3 4 5 6 7 8 9]\n",
            "linspace [ 1.    3.25  5.5   7.75 10.  ]\n",
            "random [0.72169376 0.8021944  0.67568505 0.80374839 0.25830771 0.21067878\n",
            " 0.09338536 0.87021108 0.04148779 0.50395494]\n",
            "random int [9 1 1 9 1 1 8 9 7 7]\n"
          ]
        }
      ]
    }
  ]
}