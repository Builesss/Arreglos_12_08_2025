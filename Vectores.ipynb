{
  "nbformat": 4,
  "nbformat_minor": 0,
  "metadata": {
    "colab": {
      "provenance": [],
      "authorship_tag": "ABX9TyNwWSVQAg1n833d7cw5yMmS",
      "include_colab_link": true
    },
    "kernelspec": {
      "name": "python3",
      "display_name": "Python 3"
    },
    "language_info": {
      "name": "python"
    }
  },
  "cells": [
    {
      "cell_type": "markdown",
      "metadata": {
        "id": "view-in-github",
        "colab_type": "text"
      },
      "source": [
        "<a href=\"https://colab.research.google.com/github/Builesss/Arreglos_12_08_2025/blob/main/Vectores.ipynb\" target=\"_parent\"><img src=\"https://colab.research.google.com/assets/colab-badge.svg\" alt=\"Open In Colab\"/></a>"
      ]
    },
    {
      "cell_type": "code",
      "execution_count": null,
      "metadata": {
        "id": "y1DdtQtwMi0M"
      },
      "outputs": [],
      "source": []
    },
    {
      "cell_type": "markdown",
      "source": [
        "Los vectores son una reserva de memoria para almacenar informacion, solo puede ser de un tipo, si es numerico, es numerico, si es texto, debe continuar siendo texto, esto aplica para las matrices.\n",
        "\n",
        "Los arreglos son identificadores estaticos, esto significa que es otra forma de definir, varibales y constantes."
      ],
      "metadata": {
        "id": "rniIbdNNVAan"
      }
    },
    {
      "cell_type": "code",
      "source": [
        "import numpy as np\n",
        "\n",
        "vector = np.array([1, 2, 3, 4, 5])\n",
        "print(vector)\n",
        "\n",
        "print(vector[2])\n",
        "\n",
        "\"\"\" Los vectores no son como las listas, no tienen un metodo end() para agregar elementos\n",
        "o tienen un metodo pop() para eliminar elemntos. pero si tienen metodo reshape() para cambiar\n",
        "su forma, adicionalmente despues de creado no se puede cambiar el tamaño del vector.\"\"\"\n",
        "\n",
        "vector1 = np.zeros(5)\n",
        "print(vector1)\n",
        "\n",
        "vector2 = np.ones(5)\n",
        "print(vector2)\n",
        "\n",
        "vector3 = np.arange(1, 10)\n",
        "print(\"rango\", vector3)\n",
        "\n",
        "vector4 = np.linspace(1, 10, 5)\n",
        "print(\"linspace\", vector4)\n",
        "\n",
        "vector5 = np.random.rand(10)\n",
        "print(\"random\", vector5)\n",
        "\n",
        "vector6 = np.random.randint(1, 10, 10)\n",
        "print(\"random int\", vector6)"
      ],
      "metadata": {
        "colab": {
          "base_uri": "https://localhost:8080/"
        },
        "collapsed": true,
        "id": "Xv8RlZDVVb0X",
        "outputId": "5105ba08-cf85-4d09-8004-b6de096f00bd"
      },
      "execution_count": 1,
      "outputs": [
        {
          "output_type": "stream",
          "name": "stdout",
          "text": [
            "[1 2 3 4 5]\n",
            "3\n",
            "[0. 0. 0. 0. 0.]\n",
            "[1. 1. 1. 1. 1.]\n",
            "rango [1 2 3 4 5 6 7 8 9]\n",
            "linspace [ 1.    3.25  5.5   7.75 10.  ]\n",
            "random [0.72169376 0.8021944  0.67568505 0.80374839 0.25830771 0.21067878\n",
            " 0.09338536 0.87021108 0.04148779 0.50395494]\n",
            "random int [9 1 1 9 1 1 8 9 7 7]\n"
          ]
        }
      ]
    },
    {
      "cell_type": "code",
      "source": [
        "import numpy as np\n",
        "\n",
        "vector1 = np.array([1, 2, 3])\n",
        "vector2 = np.array([4, 5, 6])\n",
        "\n",
        "suma = vector1 + vector2\n",
        "print(\"\\033[31mSuma de vectores:\", suma, \"\\033[0m\")\n",
        "\n",
        "producto = vector1 * vector2\n",
        "print(\"\\033[32mProducto de vectores:\", producto, \"\\033[0m\")\n",
        "\n",
        "division = vector1 / vector2\n",
        "print(\"\\033[33mDivision de vectores:\", division, \"\\033[0m\")\n",
        "\n",
        "resta = vector1 - vector2\n",
        "print(\"\\033[34mResta de vectores:\", resta, \"\\033[0m\")\n",
        "\n",
        "potencia = vector1 ** 2\n",
        "print(\"\\033[35mPotencia de vectores:\", potencia, \"\\033[0m\")"
      ],
      "metadata": {
        "colab": {
          "base_uri": "https://localhost:8080/"
        },
        "collapsed": true,
        "id": "yF5Wc_Eps_AH",
        "outputId": "9d5820b5-c055-4055-f6ab-bf06697034b6"
      },
      "execution_count": 2,
      "outputs": [
        {
          "output_type": "stream",
          "name": "stdout",
          "text": [
            "\u001b[31mSuma de vectores: [5 7 9] \u001b[0m\n",
            "\u001b[32mProducto de vectores: [ 4 10 18] \u001b[0m\n",
            "\u001b[33mDivision de vectores: [0.25 0.4  0.5 ] \u001b[0m\n",
            "\u001b[34mResta de vectores: [-3 -3 -3] \u001b[0m\n",
            "\u001b[35mPotencia de vectores: [1 4 9] \u001b[0m\n"
          ]
        }
      ]
    }
  ]
}